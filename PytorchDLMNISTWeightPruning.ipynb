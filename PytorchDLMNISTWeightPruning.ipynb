{
  "nbformat": 4,
  "nbformat_minor": 0,
  "metadata": {
    "colab": {
      "name": "PytorchDLMNIST",
      "version": "0.3.2",
      "provenance": [],
      "collapsed_sections": [],
      "include_colab_link": true
    },
    "kernelspec": {
      "name": "python3",
      "display_name": "Python 3"
    }
  },
  "cells": [
    {
      "cell_type": "markdown",
      "metadata": {
        "id": "view-in-github",
        "colab_type": "text"
      },
      "source": [
        "<a href=\"https://colab.research.google.com/github/AnuragQ/Audio-Signal-Processing/blob/master/PytorchDLMNISTWeightPruning.ipynb\" target=\"_parent\"><img src=\"https://colab.research.google.com/assets/colab-badge.svg\" alt=\"Open In Colab\"/></a>"
      ]
    },
    {
      "metadata": {
        "id": "tWvJlONYu0x2",
        "colab_type": "code",
        "colab": {}
      },
      "cell_type": "code",
      "source": [
        "import torch.nn as nn\n",
        "from torch import optim\n",
        "from torch.utils.data import DataLoader\n",
        "import torch\n",
        "import numpy as np\n",
        "from torchvision import datasets, transforms"
      ],
      "execution_count": 0,
      "outputs": []
    },
    {
      "metadata": {
        "id": "FyO7tDh3inqW",
        "colab_type": "code",
        "colab": {}
      },
      "cell_type": "code",
      "source": [
        ""
      ],
      "execution_count": 0,
      "outputs": []
    },
    {
      "metadata": {
        "id": "kpezbr4P8N_e",
        "colab_type": "code",
        "colab": {}
      },
      "cell_type": "code",
      "source": [
        "# Construct a ReLU-activated neural network with four hidden layers with sizes [1000, 1000,\n",
        "# 500, 200]. Note: you’ll have a fifth layer for your output logits, which you will have 10 of.\n",
        "# 3. Train your network on MNIST or Fashion-MNIST (your choice, whatever is easier)\n",
        "# 4. Prune away (set to zero) the k% of weights using weight and unit pruning for k in [0, 25,\n",
        "# 50, 60, 70, 80, 90, 95, 97, 99]. Remember not to prune the weights leading to the output\n",
        "# logits.\n",
        "# 5. Create a table or plot showing the percent sparsity (number of weights in your network\n",
        "# that are zero) versus percent accuracy with two curves (one for weight pruning and one\n",
        "# for unit pruning).\n",
        "# 6. Make your code clean and readable. Add comments where needed.\n",
        "# 7. Follow the submission guidelines\n",
        "\n",
        "class Net(nn.Module):\n",
        "    def __init__(self, layers):\n",
        "        super().__init__()\n",
        "        n_layers=[]\n",
        "        \n",
        "        for i in range(len(layers)-2):\n",
        "            n_layers.append(nn.Linear(layers[i], layers[i+1]))\n",
        "            n_layers.append(nn.ReLU(inplace=True))\n",
        "        \n",
        "        n_layers.append(nn.Linear(layers[-2], layers[-1]))\n",
        "        \n",
        "        self.model = nn.ModuleList(n_layers)\n",
        "#         self.model= nn.Sequential(\n",
        "#             nn.Linear(784, 1000),\n",
        "#             nn.Linear(1000, 10)\n",
        "#         )\n",
        "    def forward(self, x):\n",
        "        x=x.view(-1,784)\n",
        "        for l in self.model:\n",
        "            x=l(x)\n",
        "        return x\n",
        "#     def set_masks(self, masks,layers):\n",
        "#         # Should be a less manual way to set masks\n",
        "#         # Leave it for the future\n",
        "#         for i in range(len(layers)-2):\n",
        "            \n",
        "#             self.n_layers[i].set_mask(masks[i])\n",
        "        \n"
      ],
      "execution_count": 0,
      "outputs": []
    },
    {
      "metadata": {
        "id": "socFiMEuyssT",
        "colab_type": "code",
        "colab": {}
      },
      "cell_type": "code",
      "source": [
        ""
      ],
      "execution_count": 0,
      "outputs": []
    },
    {
      "metadata": {
        "id": "jBH3pyuUyqo8",
        "colab_type": "code",
        "colab": {}
      },
      "cell_type": "code",
      "source": [
        ""
      ],
      "execution_count": 0,
      "outputs": []
    },
    {
      "metadata": {
        "id": "HWWcxS3eymAP",
        "colab_type": "code",
        "colab": {}
      },
      "cell_type": "code",
      "source": [
        ""
      ],
      "execution_count": 0,
      "outputs": []
    },
    {
      "metadata": {
        "id": "RPJeun3ZyaC6",
        "colab_type": "code",
        "colab": {}
      },
      "cell_type": "code",
      "source": [
        ""
      ],
      "execution_count": 0,
      "outputs": []
    },
    {
      "metadata": {
        "id": "znADVSshyLCr",
        "colab_type": "code",
        "colab": {}
      },
      "cell_type": "code",
      "source": [
        ""
      ],
      "execution_count": 0,
      "outputs": []
    },
    {
      "metadata": {
        "id": "4EAOdn6kyDca",
        "colab_type": "code",
        "colab": {}
      },
      "cell_type": "code",
      "source": [
        ""
      ],
      "execution_count": 0,
      "outputs": []
    },
    {
      "metadata": {
        "id": "8kmS8xV-miht",
        "colab_type": "code",
        "colab": {}
      },
      "cell_type": "code",
      "source": [
        ""
      ],
      "execution_count": 0,
      "outputs": []
    },
    {
      "metadata": {
        "id": "rc1LUC8xkfeL",
        "colab_type": "code",
        "colab": {}
      },
      "cell_type": "code",
      "source": [
        ""
      ],
      "execution_count": 0,
      "outputs": []
    },
    {
      "metadata": {
        "id": "xGa_5Uv4bwCh",
        "colab_type": "code",
        "outputId": "d3e71a4e-4c78-404c-929f-5760610a544a",
        "colab": {
          "base_uri": "https://localhost:8080/",
          "height": 243
        }
      },
      "cell_type": "code",
      "source": [
        "Net([784, 1000, 1000, 500, 200, 10])"
      ],
      "execution_count": 260,
      "outputs": [
        {
          "output_type": "execute_result",
          "data": {
            "text/plain": [
              "Net(\n",
              "  (model): ModuleList(\n",
              "    (0): Linear(in_features=784, out_features=1000, bias=True)\n",
              "    (1): ReLU(inplace)\n",
              "    (2): Linear(in_features=1000, out_features=1000, bias=True)\n",
              "    (3): ReLU(inplace)\n",
              "    (4): Linear(in_features=1000, out_features=500, bias=True)\n",
              "    (5): ReLU(inplace)\n",
              "    (6): Linear(in_features=500, out_features=200, bias=True)\n",
              "    (7): ReLU(inplace)\n",
              "    (8): Linear(in_features=200, out_features=10, bias=True)\n",
              "  )\n",
              ")"
            ]
          },
          "metadata": {
            "tags": []
          },
          "execution_count": 260
        }
      ]
    },
    {
      "metadata": {
        "id": "sF0X_ISYbh65",
        "colab_type": "code",
        "colab": {}
      },
      "cell_type": "code",
      "source": [
        ""
      ],
      "execution_count": 0,
      "outputs": []
    },
    {
      "metadata": {
        "id": "kriIRJdnjhXg",
        "colab_type": "code",
        "colab": {}
      },
      "cell_type": "code",
      "source": [
        ""
      ],
      "execution_count": 0,
      "outputs": []
    },
    {
      "metadata": {
        "id": "yfSrFGFWiINR",
        "colab_type": "code",
        "colab": {}
      },
      "cell_type": "code",
      "source": [
        ""
      ],
      "execution_count": 0,
      "outputs": []
    },
    {
      "metadata": {
        "id": "2n7Jc3BtjQCp",
        "colab_type": "code",
        "colab": {}
      },
      "cell_type": "code",
      "source": [
        ""
      ],
      "execution_count": 0,
      "outputs": []
    },
    {
      "metadata": {
        "id": "KQJpCeHxh8Oo",
        "colab_type": "code",
        "colab": {}
      },
      "cell_type": "code",
      "source": [
        ""
      ],
      "execution_count": 0,
      "outputs": []
    },
    {
      "metadata": {
        "id": "JhTiVsEih51x",
        "colab_type": "code",
        "colab": {}
      },
      "cell_type": "code",
      "source": [
        ""
      ],
      "execution_count": 0,
      "outputs": []
    },
    {
      "metadata": {
        "id": "9k2_MbGAh2OU",
        "colab_type": "code",
        "colab": {}
      },
      "cell_type": "code",
      "source": [
        ""
      ],
      "execution_count": 0,
      "outputs": []
    },
    {
      "metadata": {
        "id": "EQIh9WQ2heSY",
        "colab_type": "code",
        "colab": {}
      },
      "cell_type": "code",
      "source": [
        ""
      ],
      "execution_count": 0,
      "outputs": []
    },
    {
      "metadata": {
        "id": "9Cc7NsrghWw5",
        "colab_type": "code",
        "colab": {}
      },
      "cell_type": "code",
      "source": [
        ""
      ],
      "execution_count": 0,
      "outputs": []
    },
    {
      "metadata": {
        "id": "AWBu0YSv96OL",
        "colab_type": "code",
        "outputId": "af735bca-288a-4219-a71b-7144f38d0801",
        "colab": {
          "base_uri": "https://localhost:8080/",
          "height": 243
        }
      },
      "cell_type": "code",
      "source": [
        "device = torch.device('cuda' if torch.cuda.is_available() else 'cpu')\n",
        "net = Net([784, 1000, 1000, 500, 200, 10]).to(device)\n",
        "optimizer = optim.RMSprop(net.parameters(), lr=1e-3)\n",
        "\n",
        "critic = nn.CrossEntropyLoss()\n",
        "net"
      ],
      "execution_count": 261,
      "outputs": [
        {
          "output_type": "execute_result",
          "data": {
            "text/plain": [
              "Net(\n",
              "  (model): ModuleList(\n",
              "    (0): Linear(in_features=784, out_features=1000, bias=True)\n",
              "    (1): ReLU(inplace)\n",
              "    (2): Linear(in_features=1000, out_features=1000, bias=True)\n",
              "    (3): ReLU(inplace)\n",
              "    (4): Linear(in_features=1000, out_features=500, bias=True)\n",
              "    (5): ReLU(inplace)\n",
              "    (6): Linear(in_features=500, out_features=200, bias=True)\n",
              "    (7): ReLU(inplace)\n",
              "    (8): Linear(in_features=200, out_features=10, bias=True)\n",
              "  )\n",
              ")"
            ]
          },
          "metadata": {
            "tags": []
          },
          "execution_count": 261
        }
      ]
    },
    {
      "metadata": {
        "id": "QptKXKcY-HDn",
        "colab_type": "code",
        "colab": {}
      },
      "cell_type": "code",
      "source": [
        "train_transforms = transforms.Compose([\n",
        "    transforms.ToTensor(),\n",
        "    transforms.Normalize((0.1307,), (0.3081,))\n",
        "])\n",
        "\n",
        "test_transforms = transforms.Compose([\n",
        "    transforms.ToTensor(),\n",
        "    transforms.Normalize((0.1307,), (0.3081,))\n",
        "])\n",
        "\n",
        "\n",
        "train_loader = DataLoader(\n",
        "    datasets.MNIST('.', train=True, download=True, transform=train_transforms), batch_size=64, shuffle=True\n",
        ")\n",
        "\n",
        "test_loader = DataLoader(\n",
        "    datasets.MNIST('.', train=False, download=True, transform=test_transforms), batch_size=64, shuffle=False\n",
        ")"
      ],
      "execution_count": 0,
      "outputs": []
    },
    {
      "metadata": {
        "id": "vx0_n4kOAnH2",
        "colab_type": "code",
        "colab": {}
      },
      "cell_type": "code",
      "source": [
        "def train(epochs, model, optimizer, critic, train_dl):\n",
        "    model.train()\n",
        "    \n",
        "    for ep in range(epochs):\n",
        "        print(f'Epoch: {ep+1}')\n",
        "        for batch_i, (x_batch, y_batch) in enumerate(train_dl):\n",
        "            x_batch, y_batch = x_batch.to(device), y_batch.to(device)\n",
        "            preds = model(x_batch)\n",
        "            loss = critic(preds, y_batch)\n",
        "\n",
        "            optimizer.zero_grad()\n",
        "            loss.backward()\n",
        "            optimizer.step()\n",
        "            \n",
        "            if batch_i % 100 == 0:\n",
        "                pred_labels = torch.argmax(preds, dim=1)\n",
        "                acc = (pred_labels == y_batch).sum().float()\n",
        "                print(f'\\tLoss: {loss.item():.4f} \\t Accuracy: {acc/x_batch.shape[0]:.2f}')"
      ],
      "execution_count": 0,
      "outputs": []
    },
    {
      "metadata": {
        "id": "IA5RpDNdDYgq",
        "colab_type": "code",
        "outputId": "1541c992-789d-4437-f008-4b3e7305fb75",
        "colab": {
          "base_uri": "https://localhost:8080/",
          "height": 399
        }
      },
      "cell_type": "code",
      "source": [
        "train(2,net, optimizer, critic, train_loader)"
      ],
      "execution_count": 264,
      "outputs": [
        {
          "output_type": "stream",
          "text": [
            "Epoch: 1\n",
            "\tLoss: 2.3018 \t Accuracy: 0.14\n",
            "\tLoss: 0.2167 \t Accuracy: 0.94\n",
            "\tLoss: 0.2040 \t Accuracy: 0.97\n",
            "\tLoss: 0.2563 \t Accuracy: 0.94\n",
            "\tLoss: 0.2305 \t Accuracy: 0.95\n",
            "\tLoss: 0.2187 \t Accuracy: 0.94\n",
            "\tLoss: 0.1065 \t Accuracy: 0.95\n",
            "\tLoss: 0.1241 \t Accuracy: 0.95\n",
            "\tLoss: 0.1499 \t Accuracy: 0.97\n",
            "\tLoss: 0.1676 \t Accuracy: 0.94\n",
            "Epoch: 2\n",
            "\tLoss: 0.3414 \t Accuracy: 0.94\n",
            "\tLoss: 0.1224 \t Accuracy: 0.97\n",
            "\tLoss: 0.1628 \t Accuracy: 0.95\n",
            "\tLoss: 0.1254 \t Accuracy: 0.97\n",
            "\tLoss: 0.0307 \t Accuracy: 0.98\n",
            "\tLoss: 0.0273 \t Accuracy: 1.00\n",
            "\tLoss: 0.2840 \t Accuracy: 0.97\n",
            "\tLoss: 0.0857 \t Accuracy: 0.98\n",
            "\tLoss: 0.0675 \t Accuracy: 0.98\n",
            "\tLoss: 0.0241 \t Accuracy: 0.98\n"
          ],
          "name": "stdout"
        }
      ]
    },
    {
      "metadata": {
        "id": "YE726OR9iU4s",
        "colab_type": "code",
        "colab": {}
      },
      "cell_type": "code",
      "source": [
        "# def weight_prune(model, pruning_perc):\n",
        "#     '''\n",
        "#     Prune pruning_perc% weights globally (not layer-wise)\n",
        "#     arXiv: 1606.09274\n",
        "#     '''    \n",
        "#     all_weights = []\n",
        "#     for p in model.parameters():\n",
        "#         if len(p.data.size()) != 1:\n",
        "#             all_weights += list(p.cpu().data.abs().numpy().flatten())\n",
        "#     threshold = np.percentile(np.array(all_weights), pruning_perc)\n",
        "\n",
        "#     # generate mask\n",
        "#     masks = []\n",
        "#     for p in model.parameters():\n",
        "#         if len(p.data.size()) != 1:\n",
        "#             pruned_inds = p.data.abs() > threshold\n",
        "#             masks.append(pruned_inds.float())\n",
        "#     return masks"
      ],
      "execution_count": 0,
      "outputs": []
    },
    {
      "metadata": {
        "id": "GN60tabyihm9",
        "colab_type": "code",
        "colab": {
          "base_uri": "https://localhost:8080/",
          "height": 34
        },
        "outputId": "f9055d27-a776-45f9-99c1-9f26c9124eb6"
      },
      "cell_type": "code",
      "source": [
        "correct = 0\n",
        "total = 0\n",
        "with torch.no_grad():\n",
        "    for data in test_loader:\n",
        "        images, labels = data\n",
        "        outputs = net(images.to(device))\n",
        "        outputs.data=outputs.data.to(device)\n",
        "        _, predicted = torch.max(outputs.data, 1)\n",
        "        total += labels.size(0)\n",
        "        correct += (predicted == labels).sum().item()\n",
        "\n",
        "print('Accuracy of the network on test images: %d %%' % (\n",
        "    100 * correct / total))"
      ],
      "execution_count": 266,
      "outputs": [
        {
          "output_type": "stream",
          "text": [
            "Accuracy of the network on test images: 97 %\n"
          ],
          "name": "stdout"
        }
      ]
    },
    {
      "metadata": {
        "id": "qoUXM_2Ricf3",
        "colab_type": "code",
        "colab": {}
      },
      "cell_type": "code",
      "source": [
        ""
      ],
      "execution_count": 0,
      "outputs": []
    },
    {
      "metadata": {
        "id": "gAzeD30rDbXk",
        "colab_type": "code",
        "colab": {}
      },
      "cell_type": "code",
      "source": [
        "for child in net.children():\n",
        "    for param in child.parameters():\n",
        "        param =  torch.zeros(param.size())\n",
        "        param.requires_grad = False\n",
        "# param = {\n",
        "#     'pruning_perc': 90.,\n",
        "#     'batch_size': 128, \n",
        "#     'test_batch_size': 100,\n",
        "#     'num_epochs': 5,\n",
        "#     'learning_rate': 0.001,\n",
        "#     'weight_decay': 5e-4,\n",
        "# }\n",
        "\n",
        "\n",
        "\n",
        "# masks = weight_prune(net, param['pruning_perc'])\n",
        "# net.set_masks(masks)\n",
        "# print(\"--- {}% parameters pruned ---\".format(param['pruning_perc']))"
      ],
      "execution_count": 0,
      "outputs": []
    },
    {
      "metadata": {
        "id": "xjdgKtbNgOv2",
        "colab_type": "code",
        "colab": {}
      },
      "cell_type": "code",
      "source": [
        ""
      ],
      "execution_count": 0,
      "outputs": []
    },
    {
      "metadata": {
        "id": "10QwEIA_Ccen",
        "colab_type": "code",
        "colab": {}
      },
      "cell_type": "code",
      "source": [
        "all_weights = []\n",
        "for p in net.parameters():\n",
        "    if len(p.data.size()) != 1:\n",
        "        all_weights += list(p.cpu().data.abs().numpy().flatten())\n",
        "threshold = np.percentile(np.array(all_weights), 90)"
      ],
      "execution_count": 0,
      "outputs": []
    },
    {
      "metadata": {
        "id": "B2zGpcbN0NcI",
        "colab_type": "code",
        "colab": {}
      },
      "cell_type": "code",
      "source": [
        ""
      ],
      "execution_count": 0,
      "outputs": []
    },
    {
      "metadata": {
        "id": "TCgX8PFrCUl6",
        "colab_type": "code",
        "colab": {
          "base_uri": "https://localhost:8080/",
          "height": 34
        },
        "outputId": "8cf32b73-decb-4e71-e5c6-b23b5fbdb366"
      },
      "cell_type": "code",
      "source": [
        "print(threshold)"
      ],
      "execution_count": 269,
      "outputs": [
        {
          "output_type": "stream",
          "text": [
            "0.003994928859174252\n"
          ],
          "name": "stdout"
        }
      ]
    },
    {
      "metadata": {
        "id": "sbIXpz3EhUpz",
        "colab_type": "code",
        "colab": {}
      },
      "cell_type": "code",
      "source": [
        "for arr in net.model[0::2]:\n",
        "    \n",
        "    for j in range(arr.weight.data.size()[1]):\n",
        "            for i in range(arr.weight.data.size()[0]):\n",
        "                if(abs(arr.weight.data[i][j].item())<threshold):\n",
        "                    arr.weight.data[i][j]=0              \n",
        "\n",
        "        "
      ],
      "execution_count": 0,
      "outputs": []
    },
    {
      "metadata": {
        "id": "L9xQjJmM2tXS",
        "colab_type": "code",
        "colab": {}
      },
      "cell_type": "code",
      "source": [
        ""
      ],
      "execution_count": 0,
      "outputs": []
    },
    {
      "metadata": {
        "id": "rugtvtkehYzH",
        "colab_type": "code",
        "colab": {
          "base_uri": "https://localhost:8080/",
          "height": 139
        },
        "outputId": "4122a59c-dcc6-4e98-b83b-8f04ee67464b"
      },
      "cell_type": "code",
      "source": [
        "net.model[2].weight.data"
      ],
      "execution_count": 271,
      "outputs": [
        {
          "output_type": "execute_result",
          "data": {
            "text/plain": [
              "tensor([[-0.0218, -0.0189, -0.0090,  ...,  0.0456, -0.0187, -0.0462],\n",
              "        [ 0.0073, -0.0241, -0.0579,  ..., -0.0179, -0.0117, -0.0088],\n",
              "        [ 0.0152,  0.0079,  0.0160,  ..., -0.0425,  0.0000,  0.0366],\n",
              "        ...,\n",
              "        [-0.0140, -0.0063, -0.0113,  ...,  0.0152, -0.0134,  0.0073],\n",
              "        [ 0.0408, -0.0349, -0.0079,  ...,  0.0286, -0.0308, -0.0211],\n",
              "        [ 0.0155,  0.0167, -0.0434,  ..., -0.0292,  0.0081,  0.0376]])"
            ]
          },
          "metadata": {
            "tags": []
          },
          "execution_count": 271
        }
      ]
    },
    {
      "metadata": {
        "id": "Zpsq9fGak-bn",
        "colab_type": "code",
        "colab": {}
      },
      "cell_type": "code",
      "source": [
        ""
      ],
      "execution_count": 0,
      "outputs": []
    },
    {
      "metadata": {
        "id": "xZTuO_9AyUjU",
        "colab_type": "code",
        "colab": {}
      },
      "cell_type": "code",
      "source": [
        ""
      ],
      "execution_count": 0,
      "outputs": []
    },
    {
      "metadata": {
        "id": "v6I25tbpySIV",
        "colab_type": "code",
        "colab": {}
      },
      "cell_type": "code",
      "source": [
        ""
      ],
      "execution_count": 0,
      "outputs": []
    },
    {
      "metadata": {
        "id": "auJedJ_RyH5R",
        "colab_type": "code",
        "colab": {}
      },
      "cell_type": "code",
      "source": [
        ""
      ],
      "execution_count": 0,
      "outputs": []
    },
    {
      "metadata": {
        "id": "CTUu4JQ1v0sr",
        "colab_type": "code",
        "colab": {}
      },
      "cell_type": "code",
      "source": [
        ""
      ],
      "execution_count": 0,
      "outputs": []
    },
    {
      "metadata": {
        "id": "NDSYHdYDvunP",
        "colab_type": "code",
        "colab": {}
      },
      "cell_type": "code",
      "source": [
        ""
      ],
      "execution_count": 0,
      "outputs": []
    },
    {
      "metadata": {
        "id": "qE_NvSmXwD26",
        "colab_type": "code",
        "colab": {}
      },
      "cell_type": "code",
      "source": [
        ""
      ],
      "execution_count": 0,
      "outputs": []
    },
    {
      "metadata": {
        "id": "LR6iZVIVk-ua",
        "colab_type": "code",
        "colab": {}
      },
      "cell_type": "code",
      "source": [
        ""
      ],
      "execution_count": 0,
      "outputs": []
    },
    {
      "metadata": {
        "id": "PKfg0Td2k-j_",
        "colab_type": "code",
        "colab": {}
      },
      "cell_type": "code",
      "source": [
        ""
      ],
      "execution_count": 0,
      "outputs": []
    },
    {
      "metadata": {
        "id": "48vvu5QlhC3m",
        "colab_type": "code",
        "colab": {
          "base_uri": "https://localhost:8080/",
          "height": 34
        },
        "outputId": "ec4bf0b3-7e65-4df0-d288-0a290dd323ff"
      },
      "cell_type": "code",
      "source": [
        "correct = 0\n",
        "total = 0\n",
        "with torch.no_grad():\n",
        "    for data in test_loader:\n",
        "        images, labels = data\n",
        "        outputs = net(images.to(device))\n",
        "        outputs.data=outputs.data.to(device)\n",
        "        _, predicted = torch.max(outputs.data, 1)\n",
        "        total += labels.size(0)\n",
        "        correct += (predicted == labels).sum().item()\n",
        "\n",
        "print('Accuracy of the network on test images: %d %%' % (\n",
        "    100 * correct / total))"
      ],
      "execution_count": 275,
      "outputs": [
        {
          "output_type": "stream",
          "text": [
            "Accuracy of the network on test images: 96 %\n"
          ],
          "name": "stdout"
        }
      ]
    },
    {
      "metadata": {
        "id": "QeXfksIUfued",
        "colab_type": "code",
        "colab": {}
      },
      "cell_type": "code",
      "source": [
        ""
      ],
      "execution_count": 0,
      "outputs": []
    },
    {
      "metadata": {
        "id": "ScVIef2wfn-a",
        "colab_type": "code",
        "colab": {}
      },
      "cell_type": "code",
      "source": [
        ""
      ],
      "execution_count": 0,
      "outputs": []
    },
    {
      "metadata": {
        "id": "boVw9y0nfjv-",
        "colab_type": "code",
        "colab": {}
      },
      "cell_type": "code",
      "source": [
        ""
      ],
      "execution_count": 0,
      "outputs": []
    },
    {
      "metadata": {
        "id": "splkDkAcfg8y",
        "colab_type": "code",
        "colab": {}
      },
      "cell_type": "code",
      "source": [
        ""
      ],
      "execution_count": 0,
      "outputs": []
    },
    {
      "metadata": {
        "id": "b4WAI0z8fBRh",
        "colab_type": "code",
        "colab": {}
      },
      "cell_type": "code",
      "source": [
        ""
      ],
      "execution_count": 0,
      "outputs": []
    },
    {
      "metadata": {
        "id": "bjhMkzj0e4I4",
        "colab_type": "code",
        "colab": {}
      },
      "cell_type": "code",
      "source": [
        ""
      ],
      "execution_count": 0,
      "outputs": []
    },
    {
      "metadata": {
        "id": "rJdsQ3R1eye7",
        "colab_type": "code",
        "colab": {}
      },
      "cell_type": "code",
      "source": [
        ""
      ],
      "execution_count": 0,
      "outputs": []
    },
    {
      "metadata": {
        "id": "XhC7kjfned0Y",
        "colab_type": "code",
        "colab": {}
      },
      "cell_type": "code",
      "source": [
        ""
      ],
      "execution_count": 0,
      "outputs": []
    },
    {
      "metadata": {
        "id": "ceGJKgneeaRa",
        "colab_type": "code",
        "colab": {}
      },
      "cell_type": "code",
      "source": [
        ""
      ],
      "execution_count": 0,
      "outputs": []
    },
    {
      "metadata": {
        "id": "GfdNo2FUeMDb",
        "colab_type": "code",
        "colab": {}
      },
      "cell_type": "code",
      "source": [
        ""
      ],
      "execution_count": 0,
      "outputs": []
    },
    {
      "metadata": {
        "id": "sHswjEE6aQ2D",
        "colab_type": "code",
        "colab": {}
      },
      "cell_type": "code",
      "source": [
        "\n"
      ],
      "execution_count": 0,
      "outputs": []
    },
    {
      "metadata": {
        "id": "WEYiGyTYd5ku",
        "colab_type": "code",
        "colab": {}
      },
      "cell_type": "code",
      "source": [
        ""
      ],
      "execution_count": 0,
      "outputs": []
    },
    {
      "metadata": {
        "id": "-ieWOkmjdYWd",
        "colab_type": "code",
        "colab": {}
      },
      "cell_type": "code",
      "source": [
        ""
      ],
      "execution_count": 0,
      "outputs": []
    },
    {
      "metadata": {
        "id": "UoTHzaDtdQW1",
        "colab_type": "code",
        "colab": {}
      },
      "cell_type": "code",
      "source": [
        ""
      ],
      "execution_count": 0,
      "outputs": []
    },
    {
      "metadata": {
        "id": "84xrkPwTdJMg",
        "colab_type": "code",
        "colab": {}
      },
      "cell_type": "code",
      "source": [
        ""
      ],
      "execution_count": 0,
      "outputs": []
    },
    {
      "metadata": {
        "id": "k7l9-VtHcQHV",
        "colab_type": "code",
        "colab": {}
      },
      "cell_type": "code",
      "source": [
        ""
      ],
      "execution_count": 0,
      "outputs": []
    },
    {
      "metadata": {
        "id": "bqmWuKIYcN6w",
        "colab_type": "code",
        "colab": {}
      },
      "cell_type": "code",
      "source": [
        ""
      ],
      "execution_count": 0,
      "outputs": []
    },
    {
      "metadata": {
        "id": "w4uAxtencBJz",
        "colab_type": "code",
        "colab": {}
      },
      "cell_type": "code",
      "source": [
        ""
      ],
      "execution_count": 0,
      "outputs": []
    },
    {
      "metadata": {
        "id": "P0xFCFdLb7Wd",
        "colab_type": "code",
        "colab": {}
      },
      "cell_type": "code",
      "source": [
        ""
      ],
      "execution_count": 0,
      "outputs": []
    },
    {
      "metadata": {
        "id": "q5-d1ZfOaRpp",
        "colab_type": "code",
        "colab": {}
      },
      "cell_type": "code",
      "source": [
        ""
      ],
      "execution_count": 0,
      "outputs": []
    },
    {
      "metadata": {
        "id": "GsDIqi8eaRtr",
        "colab_type": "code",
        "colab": {}
      },
      "cell_type": "code",
      "source": [
        ""
      ],
      "execution_count": 0,
      "outputs": []
    },
    {
      "metadata": {
        "id": "gq-o2CdOaRyG",
        "colab_type": "code",
        "colab": {}
      },
      "cell_type": "code",
      "source": [
        ""
      ],
      "execution_count": 0,
      "outputs": []
    },
    {
      "metadata": {
        "id": "2Fo4pYCvaR0L",
        "colab_type": "code",
        "colab": {}
      },
      "cell_type": "code",
      "source": [
        ""
      ],
      "execution_count": 0,
      "outputs": []
    },
    {
      "metadata": {
        "id": "QnmoCXSoaR22",
        "colab_type": "code",
        "colab": {}
      },
      "cell_type": "code",
      "source": [
        ""
      ],
      "execution_count": 0,
      "outputs": []
    },
    {
      "metadata": {
        "id": "p0A-SMVhaR5z",
        "colab_type": "code",
        "colab": {}
      },
      "cell_type": "code",
      "source": [
        ""
      ],
      "execution_count": 0,
      "outputs": []
    },
    {
      "metadata": {
        "id": "cqVK8SWMaR8Z",
        "colab_type": "code",
        "colab": {}
      },
      "cell_type": "code",
      "source": [
        ""
      ],
      "execution_count": 0,
      "outputs": []
    },
    {
      "metadata": {
        "id": "Cx5TWdWbaR_h",
        "colab_type": "code",
        "colab": {}
      },
      "cell_type": "code",
      "source": [
        ""
      ],
      "execution_count": 0,
      "outputs": []
    }
  ]
}